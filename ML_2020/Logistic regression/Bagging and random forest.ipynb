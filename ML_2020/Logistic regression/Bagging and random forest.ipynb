{
 "cells": [
  {
   "cell_type": "code",
   "execution_count": 2,
   "metadata": {},
   "outputs": [],
   "source": [
    "import sklearn\n",
    "from sklearn.datasets import load_digits"
   ]
  },
  {
   "cell_type": "code",
   "execution_count": 3,
   "metadata": {},
   "outputs": [],
   "source": [
    "digits=load_digits()"
   ]
  },
  {
   "cell_type": "code",
   "execution_count": 7,
   "metadata": {},
   "outputs": [],
   "source": [
    "X=digits.data\n",
    "y=digits.target"
   ]
  },
  {
   "cell_type": "code",
   "execution_count": 16,
   "metadata": {},
   "outputs": [],
   "source": [
    "from sklearn.model_selection import cross_val_score\n",
    "from sklearn.tree import DecisionTreeClassifier\n",
    "from sklearn.ensemble import BaggingClassifier"
   ]
  },
  {
   "cell_type": "code",
   "execution_count": 12,
   "metadata": {},
   "outputs": [],
   "source": [
    "DT=DecisionTreeClassifier(random_state=1)"
   ]
  },
  {
   "cell_type": "code",
   "execution_count": null,
   "metadata": {},
   "outputs": [],
   "source": []
  },
  {
   "cell_type": "code",
   "execution_count": 30,
   "metadata": {},
   "outputs": [],
   "source": [
    "#point 1\n",
    "def write_answer_1(score):\n",
    "    with open(\"bagging1.txt\", \"w\") as fout:\n",
    "        fout.write(str(score))\n",
    "cross_val_score(DT,X,y,cv=10).mean()\n",
    "write_answer_1(cross_val_score(DT,X,y,cv=10).mean())"
   ]
  },
  {
   "cell_type": "code",
   "execution_count": 36,
   "metadata": {},
   "outputs": [],
   "source": [
    "#point 2\n",
    "\n",
    "Bagging_DT_100_trees=BaggingClassifier(DecisionTreeClassifier(),n_estimators=100).fit(X,y)\n",
    "print(cross_val_score(Bagging_DT_100_trees,X,y,cv=10).mean())\n",
    "write_answer_1(cross_val_score(Bagging_DT_100_trees,X,y,cv=10).mean())"
   ]
  },
  {
   "cell_type": "code",
   "execution_count": 62,
   "metadata": {},
   "outputs": [
    {
     "name": "stdout",
     "output_type": "stream",
     "text": [
      "0.9265518311607697\n"
     ]
    }
   ],
   "source": [
    "#point 3\n",
    "number_features=X.shape[1]**(1/2)/X.shape[1]\n",
    "Bagging_DT_1_tree_sqrt_d=BaggingClassifier(DecisionTreeClassifier(random_state=1),max_features=number_features,n_estimators=100).fit(X,y)\n",
    "score=cross_val_score(Bagging_DT_1_tree_sqrt_d,X,y,cv=10).mean()\n",
    "print(score)\n"
   ]
  },
  {
   "cell_type": "code",
   "execution_count": 63,
   "metadata": {},
   "outputs": [],
   "source": [
    "\n"
   ]
  },
  {
   "cell_type": "code",
   "execution_count": 67,
   "metadata": {},
   "outputs": [
    {
     "name": "stdout",
     "output_type": "stream",
     "text": [
      "0.9510273122284294\n"
     ]
    }
   ],
   "source": [
    "#point 4\n",
    "DT_sqrt_features=DecisionTreeClassifier(max_features=\"sqrt\")\n",
    "Bagging_DT_1_tree_sqrt_d_every_leaf=BaggingClassifier(DT_sqrt_features,n_estimators=100).fit(X,y)\n",
    "score1=cross_val_score(Bagging_DT_1_tree_sqrt_d_every_leaf,X,y,cv=10).mean()\n",
    "print(score1)\n",
    "write_answer_1(score1)"
   ]
  },
  {
   "cell_type": "code",
   "execution_count": 76,
   "metadata": {},
   "outputs": [
    {
     "name": "stdout",
     "output_type": "stream",
     "text": [
      "0.9515797641216635\n"
     ]
    }
   ],
   "source": [
    "from sklearn import ensemble,model_selection\n",
    "import numpy as np\n",
    "RF=ensemble.RandomForestClassifier().fit(X,y)\n",
    "score2=cross_val_score(RF,X,y,cv=10).mean()\n",
    "print(score2)\n",
    "write_answer_1(score2)"
   ]
  },
  {
   "cell_type": "code",
   "execution_count": 79,
   "metadata": {},
   "outputs": [
    {
     "data": {
      "text/plain": [
       "9"
      ]
     },
     "execution_count": 79,
     "metadata": {},
     "output_type": "execute_result"
    }
   ],
   "source": [
    "np.arange(10,100,10).size"
   ]
  },
  {
   "cell_type": "code",
   "execution_count": 84,
   "metadata": {},
   "outputs": [
    {
     "data": {
      "text/plain": [
       "0.0"
      ]
     },
     "execution_count": 84,
     "metadata": {},
     "output_type": "execute_result"
    }
   ],
   "source": [
    "score=np.zeros(np.arange(10,100,10).size)\n",
    "score[8]"
   ]
  },
  {
   "cell_type": "code",
   "execution_count": 90,
   "metadata": {},
   "outputs": [
    {
     "data": {
      "text/plain": [
       "array([0, 1, 2, 3, 4, 5, 6, 7, 8])"
      ]
     },
     "execution_count": 90,
     "metadata": {},
     "output_type": "execute_result"
    }
   ],
   "source": [
    "np.arange(tree_numbers.size)"
   ]
  },
  {
   "cell_type": "code",
   "execution_count": 106,
   "metadata": {},
   "outputs": [],
   "source": [
    "tree_numbers=np.arange(10,210,10)\n",
    "score=np.zeros(tree_numbers.size)\n",
    "for number in range(tree_numbers.size):\n",
    "    RF=ensemble.RandomForestClassifier(n_estimators=tree_numbers[number]).fit(X,y)\n",
    "    score2=cross_val_score(RF,X,y,cv=10).mean()\n",
    "    score[number]=score2\n"
   ]
  },
  {
   "cell_type": "code",
   "execution_count": 107,
   "metadata": {},
   "outputs": [
    {
     "name": "stdout",
     "output_type": "stream",
     "text": [
      "Populating the interactive namespace from numpy and matplotlib\n"
     ]
    },
    {
     "name": "stderr",
     "output_type": "stream",
     "text": [
      "/Users/ekaterinakryukova/opt/anaconda3/lib/python3.7/site-packages/IPython/core/magics/pylab.py:160: UserWarning: pylab import has clobbered these variables: ['number']\n",
      "`%matplotlib` prevents importing * from pylab and numpy\n",
      "  \"\\n`%matplotlib` prevents importing * from pylab and numpy\"\n"
     ]
    },
    {
     "data": {
      "text/plain": [
       "Text(0, 0.5, 'score')"
      ]
     },
     "execution_count": 107,
     "metadata": {},
     "output_type": "execute_result"
    },
    {
     "data": {
      "image/png": "[encoded data removed]",
      "text/plain": [
       "<Figure size 432x288 with 1 Axes>"
      ]
     },
     "metadata": {
      "needs_background": "light"
     },
     "output_type": "display_data"
    }
   ],
   "source": [
    "%pylab inline\n",
    "pylab.grid(True)\n",
    "pylab.plot(tree_numbers, score, 'g-', marker='o', label='train')\n",
    "pylab.xlabel('n_estimators')\n",
    "pylab.ylabel('score')\n",
    "\n",
    "#pylab.ylim((0.0, 1.05))\n",
    "#pylab.legend(loc='lower right')"
   ]
  },
  {
   "cell_type": "code",
   "execution_count": 98,
   "metadata": {},
   "outputs": [],
   "source": [
    "max_features_in_node=np.arange(sqrt(X.shape[1]),X.shape[1],1)\n",
    "score_features=np.zeros(max_features_in_node.size)\n",
    "for number in range(max_features_in_node.size):\n",
    "    RF1=ensemble.RandomForestClassifier(n_estimators=100,max_features=max_features_in_node[number]/X.shape[1]).fit(X,y)\n",
    "    score_3=cross_val_score(RF1,X,y,cv=10).mean()\n",
    "    score_features[number]=score_3"
   ]
  },
  {
   "cell_type": "code",
   "execution_count": 100,
   "metadata": {},
   "outputs": [
    {
     "name": "stdout",
     "output_type": "stream",
     "text": [
      "Populating the interactive namespace from numpy and matplotlib\n"
     ]
    },
    {
     "data": {
      "text/plain": [
       "Text(0, 0.5, 'score')"
      ]
     },
     "execution_count": 100,
     "metadata": {},
     "output_type": "execute_result"
    },
    {
     "data": {
      "image/png": "[encoded data removed]",
      "text/plain": [
       "<Figure size 432x288 with 1 Axes>"
      ]
     },
     "metadata": {
      "needs_background": "light"
     },
     "output_type": "display_data"
    }
   ],
   "source": [
    "%pylab inline\n",
    "pylab.grid(True)\n",
    "pylab.plot(max_features_in_node, score_features, 'g-', marker='o', label='train')\n",
    "pylab.xlabel('max_features_in_node')\n",
    "pylab.ylabel('score')\n",
    "\n",
    "#pylab.ylim((0.0, 1.05))\n",
    "#pylab.legend(loc='lower right')"
   ]
  },
  {
   "cell_type": "code",
   "execution_count": 104,
   "metadata": {},
   "outputs": [],
   "source": [
    "max_depth_n=np.arange(1,20,1)\n",
    "score_depth=np.zeros(max_depth_n.size)\n",
    "for number in range(max_depth_n.size):\n",
    "    RF2=ensemble.RandomForestClassifier(n_estimators=100,max_depth=max_depth_n[number]).fit(X,y)\n",
    "    score_4=cross_val_score(RF2,X,y,cv=10).mean()\n",
    "    score_depth[number]=score_4"
   ]
  },
  {
   "cell_type": "code",
   "execution_count": 105,
   "metadata": {},
   "outputs": [
    {
     "name": "stdout",
     "output_type": "stream",
     "text": [
      "Populating the interactive namespace from numpy and matplotlib\n"
     ]
    },
    {
     "name": "stderr",
     "output_type": "stream",
     "text": [
      "/Users/ekaterinakryukova/opt/anaconda3/lib/python3.7/site-packages/IPython/core/magics/pylab.py:160: UserWarning: pylab import has clobbered these variables: ['number']\n",
      "`%matplotlib` prevents importing * from pylab and numpy\n",
      "  \"\\n`%matplotlib` prevents importing * from pylab and numpy\"\n"
     ]
    },
    {
     "data": {
      "text/plain": [
       "Text(0, 0.5, 'score')"
      ]
     },
     "execution_count": 105,
     "metadata": {},
     "output_type": "execute_result"
    },
    {
     "data": {
      "image/png": "[encoded data removed]",
      "text/plain": [
       "<Figure size 432x288 with 1 Axes>"
      ]
     },
     "metadata": {
      "needs_background": "light"
     },
     "output_type": "display_data"
    }
   ],
   "source": [
    "%pylab inline\n",
    "pylab.grid(True)\n",
    "pylab.plot(max_depth_n, score_depth, 'g-', marker='o', label='train')\n",
    "pylab.xlabel('max_depth_n')\n",
    "pylab.ylabel('score')\n",
    "\n",
    "#pylab.ylim((0.0, 1.05))\n",
    "#pylab.legend(loc='lower right')"
   ]
  },
  {
   "cell_type": "code",
   "execution_count": null,
   "metadata": {},
   "outputs": [],
   "source": []
  }
 ],
 "metadata": {
  "kernelspec": {
   "display_name": "Python 3",
   "language": "python",
   "name": "python3"
  },
  "language_info": {
   "codemirror_mode": {
    "name": "ipython",
    "version": 3
   },
   "file_extension": ".py",
   "mimetype": "text/x-python",
   "name": "python",
   "nbconvert_exporter": "python",
   "pygments_lexer": "ipython3",
   "version": "3.7.6"
  }
 },
 "nbformat": 4,
 "nbformat_minor": 4
}
